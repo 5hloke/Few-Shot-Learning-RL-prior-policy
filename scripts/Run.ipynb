{
 "cells": [
  {
   "cell_type": "code",
   "execution_count": 1,
   "metadata": {},
   "outputs": [],
   "source": [
    "import Data_Prep\n",
    "import train_Reptile\n",
    "import train_MAML\n",
    "import train_iMAML\n",
    "from pebble import Pebble\n",
    "\n",
    "import torch"
   ]
  },
  {
   "cell_type": "code",
   "execution_count": 2,
   "metadata": {},
   "outputs": [],
   "source": [
    "%load_ext autoreload\n",
    "%autoreload 2"
   ]
  },
  {
   "cell_type": "code",
   "execution_count": 3,
   "metadata": {},
   "outputs": [
    {
     "name": "stdout",
     "output_type": "stream",
     "text": [
      "mw/cls_sweep-v2\n",
      "mw/cls_push-v2\n",
      "mw/cls_door-open-v2\n",
      "mw/cls_peg-insert-side-v2\n",
      "mw/cls_drawer-close-v2\n",
      "mw/cls_basketball-v2\n",
      "mw/cls_reach-v2\n",
      "mw/cls_window-open-v2\n",
      "mw/cls_pick-place-v2\n",
      "mw/cls_button_press_topdown-v2\n"
     ]
    }
   ],
   "source": [
    "data = Data_Prep.DataPreparation()\n",
    "\n",
    "ml10 = data.get_data()\n",
    "data.construct_episodes(ml10)\n",
    "X, y, task_lengths = data.prepare_data()"
   ]
  },
  {
   "cell_type": "code",
   "execution_count": 4,
   "metadata": {},
   "outputs": [
    {
     "name": "stderr",
     "output_type": "stream",
     "text": [
      "  0%|                                                  | 0/1001 [00:00<?, ?it/s]"
     ]
    },
    {
     "data": {
      "image/png": "[encoded data removed]",
      "text/plain": [
       "<Figure size 640x480 with 1 Axes>"
      ]
     },
     "metadata": {},
     "output_type": "display_data"
    },
    {
     "name": "stderr",
     "output_type": "stream",
     "text": [
      "  0%|                                        | 1/1001 [00:11<3:12:53, 11.57s/it]"
     ]
    },
    {
     "name": "stdout",
     "output_type": "stream",
     "text": [
      "Epoch: 0, Loss: 0.6814203858375549, accuracy: 0.5760943293571472\n"
     ]
    },
    {
     "name": "stderr",
     "output_type": "stream",
     "text": [
      "  5%|██▏                                    | 55/1001 [11:25<3:16:59, 12.49s/it]"
     ]
    }
   ],
   "source": [
    "input_size = 43\n",
    "hidden_size1 = 256\n",
    "hidden_size2 = 256\n",
    "hidden_size3 = 256\n",
    "\n",
    "reptile_model = train_Reptile.Reptile(input_size, hidden_size1, hidden_size2, hidden_size3)\n",
    "rep_train_pltx, rep_train_plty, rep_train_acc = reptile_model.train(X, y, task_lengths, 1001)"
   ]
  },
  {
   "cell_type": "code",
   "execution_count": null,
   "metadata": {},
   "outputs": [],
   "source": []
  },
  {
   "cell_type": "markdown",
   "metadata": {},
   "source": [
    "### Save model"
   ]
  },
  {
   "cell_type": "code",
   "execution_count": null,
   "metadata": {},
   "outputs": [],
   "source": [
    "# torch.save(reptile_model.model.state_dict(), '../models/reptile_model.pth')"
   ]
  },
  {
   "cell_type": "markdown",
   "metadata": {},
   "source": [
    "### Validation"
   ]
  },
  {
   "cell_type": "markdown",
   "metadata": {},
   "source": [
    "#### cls_drawer-open"
   ]
  },
  {
   "cell_type": "code",
   "execution_count": null,
   "metadata": {},
   "outputs": [],
   "source": [
    "vdata = Data_Prep.DataPreparation()\n",
    "valid = vdata.get_data(validation= True, prior=False, task = 'cls_drawer-open')\n",
    "vdata.construct_episodes(valid)\n",
    "X, y, task_lengths = vdata.prepare_data()\n",
    "\n",
    "model = train_Reptile.Reptile(input_size, hidden_size1, hidden_size2, hidden_size3)\n",
    "model.model.load_state_dict(torch.load('../models/reptile_model.pth'))\n",
    "pebble = Pebble(model)\n",
    "rep_valid_no_prior_draweropen_pltx, rep_valid_no_prior_draweropen_plty = pebble.train(X, y, task_lengths, 76)"
   ]
  },
  {
   "cell_type": "code",
   "execution_count": null,
   "metadata": {},
   "outputs": [],
   "source": [
    "vdata = Data_Prep.DataPreparation()\n",
    "valid = vdata.get_data(validation= True, prior=True, task = 'cls_drawer-open')\n",
    "vdata.construct_episodes(valid)\n",
    "X, y, task_lengths = vdata.prepare_data()\n",
    "\n",
    "model = train_Reptile.Reptile(input_size, hidden_size1, hidden_size2, hidden_size3)\n",
    "model.model.load_state_dict(torch.load('../models/reptile_model.pth'))\n",
    "pebble = Pebble(model)\n",
    "rep_valid_prior_draweropen_pltx, rep_valid_prior_draweropen_plty = pebble.train(X, y, task_lengths, 76)"
   ]
  },
  {
   "cell_type": "markdown",
   "metadata": {},
   "source": [
    "#### cls_lever-pull"
   ]
  },
  {
   "cell_type": "code",
   "execution_count": null,
   "metadata": {},
   "outputs": [],
   "source": [
    "vdata = Data_Prep.DataPreparation()\n",
    "valid = vdata.get_data(validation= True, prior=False, task = 'cls_lever-pull')\n",
    "vdata.construct_episodes(valid)\n",
    "X, y, task_lengths = vdata.prepare_data()\n",
    "\n",
    "model = train_Reptile.Reptile(input_size, hidden_size1, hidden_size2, hidden_size3)\n",
    "model.model.load_state_dict(torch.load('../models/reptile_model.pth'))\n",
    "pebble = Pebble(model)\n",
    "rep_valid_no_prior_leverpull_pltx, rep_valid_no_prior_leverpull_plty = pebble.train(X, y, task_lengths, 76)"
   ]
  },
  {
   "cell_type": "code",
   "execution_count": null,
   "metadata": {},
   "outputs": [],
   "source": [
    "vdata = Data_Prep.DataPreparation()\n",
    "valid = vdata.get_data(validation= True, prior=True, task = 'cls_lever-pull')\n",
    "vdata.construct_episodes(valid)\n",
    "X, y, task_lengths = vdata.prepare_data()\n",
    "\n",
    "model = train_Reptile.Reptile(input_size, hidden_size1, hidden_size2, hidden_size3)\n",
    "model.model.load_state_dict(torch.load('../models/reptile_model.pth'))\n",
    "pebble = Pebble(model)\n",
    "rep_valid_prior_leverpull_pltx, rep_valid_prior_leverpull_plty = pebble.train(X, y, task_lengths, 76)"
   ]
  },
  {
   "cell_type": "markdown",
   "metadata": {},
   "source": [
    "#### cls_shelf-place"
   ]
  },
  {
   "cell_type": "code",
   "execution_count": null,
   "metadata": {},
   "outputs": [],
   "source": [
    "vdata = Data_Prep.DataPreparation()\n",
    "valid = vdata.get_data(validation= True, prior=False, task = 'cls_shelf-place')\n",
    "vdata.construct_episodes(valid)\n",
    "X, y, task_lengths = vdata.prepare_data()\n",
    "\n",
    "model = train_Reptile.Reptile(input_size, hidden_size1, hidden_size2, hidden_size3)\n",
    "model.model.load_state_dict(torch.load('../models/reptile_model.pth'))\n",
    "pebble = Pebble(model)\n",
    "rep_valid_no_prior_shelfplace_pltx, rep_valid_no_prior_shelfplace_plty = pebble.train(X, y, task_lengths, 76)"
   ]
  },
  {
   "cell_type": "code",
   "execution_count": null,
   "metadata": {},
   "outputs": [],
   "source": [
    "vdata = Data_Prep.DataPreparation()\n",
    "valid = vdata.get_data(validation= True, prior=True, task = 'cls_shelf-place')\n",
    "vdata.construct_episodes(valid)\n",
    "X, y, task_lengths = vdata.prepare_data()\n",
    "\n",
    "model = train_Reptile.Reptile(input_size, hidden_size1, hidden_size2, hidden_size3)\n",
    "model.model.load_state_dict(torch.load('../models/reptile_model.pth'))\n",
    "pebble = Pebble(model)\n",
    "rep_valid_prior_shelfplace_pltx, rep_valid_prior_shelfplace_plty = pebble.train(X, y, task_lengths, 76)"
   ]
  },
  {
   "cell_type": "markdown",
   "metadata": {},
   "source": [
    "#### cls_sweep-into"
   ]
  },
  {
   "cell_type": "code",
   "execution_count": null,
   "metadata": {},
   "outputs": [],
   "source": [
    "vdata = Data_Prep.DataPreparation()\n",
    "valid = vdata.get_data(validation= True, prior=False, task = 'cls_sweep-into')\n",
    "vdata.construct_episodes(valid)\n",
    "X, y, task_lengths = vdata.prepare_data()\n",
    "\n",
    "model = train_Reptile.Reptile(input_size, hidden_size1, hidden_size2, hidden_size3)\n",
    "model.model.load_state_dict(torch.load('../models/reptile_model.pth'))\n",
    "pebble = Pebble(model)\n",
    "rep_valid_no_prior_sweepinto_pltx, rep_valid_no_prior_sweepinto_plty = pebble.train(X, y, task_lengths, 76)"
   ]
  },
  {
   "cell_type": "code",
   "execution_count": null,
   "metadata": {},
   "outputs": [],
   "source": [
    "vdata = Data_Prep.DataPreparation()\n",
    "valid = vdata.get_data(validation= True, prior=True, task = 'cls_sweep-into')\n",
    "vdata.construct_episodes(valid)\n",
    "X, y, task_lengths = vdata.prepare_data()\n",
    "\n",
    "model = train_Reptile.Reptile(input_size, hidden_size1, hidden_size2, hidden_size3)\n",
    "model.model.load_state_dict(torch.load('../models/reptile_model.pth'))\n",
    "pebble = Pebble(model)\n",
    "rep_valid_prior_sweepinto_pltx, rep_valid_prior_sweepinto_plty = pebble.train(X, y, task_lengths, 76)"
   ]
  },
  {
   "cell_type": "code",
   "execution_count": null,
   "metadata": {},
   "outputs": [],
   "source": []
  },
  {
   "cell_type": "code",
   "execution_count": null,
   "metadata": {},
   "outputs": [],
   "source": []
  },
  {
   "cell_type": "code",
   "execution_count": null,
   "metadata": {},
   "outputs": [],
   "source": []
  },
  {
   "cell_type": "code",
   "execution_count": null,
   "metadata": {},
   "outputs": [],
   "source": [
    "input_size = 43\n",
    "hidden_size1 = 256\n",
    "hidden_size2 = 256\n",
    "hidden_size3 = 256\n",
    "\n",
    "# reptile_model = train_Reptile.Reptile(input_size, hidden_size1, hidden_size2, hidden_size3)\n",
    "# reptile_model.train(X, y, task_lengths, 2000)\n",
    "\n",
    "# maml_model = train_MAML.MAML(input_size, hidden_size1, hidden_size2, hidden_size3)\n",
    "# maml_model.train(X,y,task_lengths,2000)\n",
    "\n",
    "imaml_model = train_iMAML.iMAML(input_size, hidden_size1, hidden_size2, hidden_size3)\n",
    "imaml_model.train(X,y,task_lengths,2000)"
   ]
  },
  {
   "cell_type": "code",
   "execution_count": null,
   "metadata": {},
   "outputs": [],
   "source": []
  }
 ],
 "metadata": {
  "kernelspec": {
   "display_name": "Python 3 (ipykernel)",
   "language": "python",
   "name": "python3"
  },
  "language_info": {
   "codemirror_mode": {
    "name": "ipython",
    "version": 3
   },
   "file_extension": ".py",
   "mimetype": "text/x-python",
   "name": "python",
   "nbconvert_exporter": "python",
   "pygments_lexer": "ipython3",
   "version": "3.9.6"
  },
  "orig_nbformat": 4
 },
 "nbformat": 4,
 "nbformat_minor": 2
}
